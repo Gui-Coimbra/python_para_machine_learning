{
  "nbformat": 4,
  "nbformat_minor": 0,
  "metadata": {
    "colab": {
      "provenance": [],
      "authorship_tag": "ABX9TyOG76MM2oAoq2y327n4Ox8Y",
      "include_colab_link": true
    },
    "kernelspec": {
      "name": "python3",
      "display_name": "Python 3"
    },
    "language_info": {
      "name": "python"
    }
  },
  "cells": [
    {
      "cell_type": "markdown",
      "metadata": {
        "id": "view-in-github",
        "colab_type": "text"
      },
      "source": [
        "<a href=\"https://colab.research.google.com/github/Gui-Coimbra/python_para_machine_learning/blob/main/python_poo.ipynb\" target=\"_parent\"><img src=\"https://colab.research.google.com/assets/colab-badge.svg\" alt=\"Open In Colab\"/></a>"
      ]
    },
    {
      "cell_type": "code",
      "execution_count": 2,
      "metadata": {
        "id": "EnYk7tr4JYQg"
      },
      "outputs": [],
      "source": [
        "# as variaveis criadas dentro da função são locais\n",
        "def teste(v, i):\n",
        "  valor = v\n",
        "  incremento = i\n",
        "  resultado = valor + incremento\n",
        "  return resultado"
      ]
    },
    {
      "cell_type": "code",
      "source": [
        "a = teste(10,1)\n",
        "a"
      ],
      "metadata": {
        "colab": {
          "base_uri": "https://localhost:8080/"
        },
        "id": "OvmUgp1oJl76",
        "outputId": "f22780e2-5377-4913-9274-9c41ff170f26"
      },
      "execution_count": 3,
      "outputs": [
        {
          "output_type": "execute_result",
          "data": {
            "text/plain": [
              "11"
            ]
          },
          "metadata": {},
          "execution_count": 3
        }
      ]
    },
    {
      "cell_type": "code",
      "source": [
        "# Classes e métodos\n",
        "class DidaticaTech:\n",
        "  def incrementa(self, v, i):\n",
        "    valor = v\n",
        "    incremento = i\n",
        "    resultado = valor + incremento\n",
        "    return resultado"
      ],
      "metadata": {
        "id": "_NCMYTbeKeh-"
      },
      "execution_count": 5,
      "outputs": []
    },
    {
      "cell_type": "code",
      "source": [
        "a = DidaticaTech()"
      ],
      "metadata": {
        "id": "9MsMUT97LMFg"
      },
      "execution_count": 6,
      "outputs": []
    },
    {
      "cell_type": "code",
      "source": [
        "b = a.incrementa(10,1)"
      ],
      "metadata": {
        "id": "O-gE07TNLN60"
      },
      "execution_count": 7,
      "outputs": []
    },
    {
      "cell_type": "code",
      "source": [
        "b"
      ],
      "metadata": {
        "colab": {
          "base_uri": "https://localhost:8080/"
        },
        "id": "11fpffYWLSqT",
        "outputId": "c1acfae0-8a30-48de-f53a-b3e338bb58ac"
      },
      "execution_count": 8,
      "outputs": [
        {
          "output_type": "execute_result",
          "data": {
            "text/plain": [
              "11"
            ]
          },
          "metadata": {},
          "execution_count": 8
        }
      ]
    },
    {
      "cell_type": "code",
      "source": [
        "a = DidaticaTech().incrementa(10,1)\n",
        "a"
      ],
      "metadata": {
        "colab": {
          "base_uri": "https://localhost:8080/"
        },
        "id": "ACdBYiLrLTXa",
        "outputId": "e2e0bf16-6a04-417d-e0e1-9e15160f7dd8"
      },
      "execution_count": 9,
      "outputs": [
        {
          "output_type": "execute_result",
          "data": {
            "text/plain": [
              "11"
            ]
          },
          "metadata": {},
          "execution_count": 9
        }
      ]
    },
    {
      "cell_type": "code",
      "source": [
        "class DidaticaTech:\n",
        "  def incrementa(self, v, i):\n",
        "    self.valor = v\n",
        "    self.incremento = i\n",
        "    self.resultado = self.valor + self.incremento\n",
        "    return self.resultado"
      ],
      "metadata": {
        "id": "CQts_Sr7LrEJ"
      },
      "execution_count": 11,
      "outputs": []
    },
    {
      "cell_type": "code",
      "source": [
        "a = DidaticaTech()"
      ],
      "metadata": {
        "id": "y0UhfBYcMcj3"
      },
      "execution_count": 12,
      "outputs": []
    },
    {
      "cell_type": "code",
      "source": [
        "b = a.incrementa(10,1)\n",
        "b"
      ],
      "metadata": {
        "colab": {
          "base_uri": "https://localhost:8080/"
        },
        "id": "IOB_wdDUMk9P",
        "outputId": "0c6a21c7-e873-498a-9401-540ed3986330"
      },
      "execution_count": 13,
      "outputs": [
        {
          "output_type": "execute_result",
          "data": {
            "text/plain": [
              "11"
            ]
          },
          "metadata": {},
          "execution_count": 13
        }
      ]
    },
    {
      "cell_type": "code",
      "source": [
        "a.valor"
      ],
      "metadata": {
        "colab": {
          "base_uri": "https://localhost:8080/"
        },
        "id": "W534K1TuMn2O",
        "outputId": "3c833b28-b840-43c1-ebec-d74b098b1220"
      },
      "execution_count": 15,
      "outputs": [
        {
          "output_type": "execute_result",
          "data": {
            "text/plain": [
              "10"
            ]
          },
          "metadata": {},
          "execution_count": 15
        }
      ]
    },
    {
      "cell_type": "code",
      "source": [
        "class DidaticaTech:\n",
        "  def __init__(self, v: int, i:int):\n",
        "    self.valor = v\n",
        "    self.incremento = i\n",
        "  def incrementa(self):\n",
        "    self.valor = self.valor + self.incremento"
      ],
      "metadata": {
        "id": "3skowH6HMpff"
      },
      "execution_count": 16,
      "outputs": []
    },
    {
      "cell_type": "code",
      "source": [
        "a = DidaticaTech(10,1)"
      ],
      "metadata": {
        "id": "ksT8cqYYNZDs"
      },
      "execution_count": 17,
      "outputs": []
    },
    {
      "cell_type": "code",
      "source": [
        "a.incrementa()"
      ],
      "metadata": {
        "id": "maYHe-9UNrMU"
      },
      "execution_count": 20,
      "outputs": []
    },
    {
      "cell_type": "code",
      "source": [
        "a.valor"
      ],
      "metadata": {
        "colab": {
          "base_uri": "https://localhost:8080/"
        },
        "id": "bNZhxywPNsfs",
        "outputId": "5066e8d4-4a1e-4aa3-f8fc-ba96d7ddef7d"
      },
      "execution_count": 21,
      "outputs": [
        {
          "output_type": "execute_result",
          "data": {
            "text/plain": [
              "12"
            ]
          },
          "metadata": {},
          "execution_count": 21
        }
      ]
    },
    {
      "cell_type": "code",
      "source": [
        "a.incrementa()"
      ],
      "metadata": {
        "id": "VmxVmZhjNtU8"
      },
      "execution_count": 22,
      "outputs": []
    },
    {
      "cell_type": "code",
      "source": [
        "a.valor"
      ],
      "metadata": {
        "colab": {
          "base_uri": "https://localhost:8080/"
        },
        "id": "89-JfK7CN6PS",
        "outputId": "8c382b78-f0d9-4627-bb49-b231226666e9"
      },
      "execution_count": 23,
      "outputs": [
        {
          "output_type": "execute_result",
          "data": {
            "text/plain": [
              "13"
            ]
          },
          "metadata": {},
          "execution_count": 23
        }
      ]
    },
    {
      "cell_type": "code",
      "source": [
        "b = DidaticaTech(10,1)"
      ],
      "metadata": {
        "id": "hgt_uPN5N7OC"
      },
      "execution_count": 24,
      "outputs": []
    },
    {
      "cell_type": "code",
      "source": [
        "b.incrementa()"
      ],
      "metadata": {
        "id": "MagdfcfJN9G6"
      },
      "execution_count": 25,
      "outputs": []
    },
    {
      "cell_type": "code",
      "source": [
        "b.valor"
      ],
      "metadata": {
        "colab": {
          "base_uri": "https://localhost:8080/"
        },
        "id": "PZ2XOU9QN-Xq",
        "outputId": "f89c47e5-6a78-44d5-dd78-fa00a7558943"
      },
      "execution_count": 26,
      "outputs": [
        {
          "output_type": "execute_result",
          "data": {
            "text/plain": [
              "11"
            ]
          },
          "metadata": {},
          "execution_count": 26
        }
      ]
    },
    {
      "cell_type": "code",
      "source": [
        "class DidaticaTech:\n",
        "  def __init__(self, v=10, i=1):\n",
        "    self.valor = v\n",
        "    self.incremento = 1\n",
        "  def incrementa(self):\n",
        "    self.valor = self.valor + self.incremento"
      ],
      "metadata": {
        "id": "u88kgEYVN_Ty"
      },
      "execution_count": 27,
      "outputs": []
    },
    {
      "cell_type": "code",
      "source": [
        "a = DidaticaTech()"
      ],
      "metadata": {
        "id": "TykoEbTvOfh4"
      },
      "execution_count": 28,
      "outputs": []
    },
    {
      "cell_type": "code",
      "source": [
        "a.incrementa()\n",
        "a.valor"
      ],
      "metadata": {
        "colab": {
          "base_uri": "https://localhost:8080/"
        },
        "id": "YleVUnvBOhQQ",
        "outputId": "4a359c55-f665-4c7f-b6fd-fbb69d39a9d7"
      },
      "execution_count": 30,
      "outputs": [
        {
          "output_type": "execute_result",
          "data": {
            "text/plain": [
              "12"
            ]
          },
          "metadata": {},
          "execution_count": 30
        }
      ]
    },
    {
      "cell_type": "markdown",
      "source": [
        "Depois de instanciarmos a = DidaticaTech(), quando executamos a.incrementa(), o que o interpretador está fazendo é: DidaticaTech().incrementa(a, 10, 1)"
      ],
      "metadata": {
        "id": "31WgUXkXO79D"
      }
    },
    {
      "cell_type": "code",
      "source": [
        "class DidaticaTech:\n",
        "  def __init__(self, v=10, i=1):\n",
        "    self.valor = v\n",
        "    self.incremento = i\n",
        "    self.incremento_exponencial = v\n",
        "  def incrementa(self):\n",
        "    self.valor = self.valor + self.incremento\n",
        "  def verifica(self):\n",
        "    if self.valor > 12:\n",
        "      print(\"Ultrapassou 12\")\n",
        "    else:\n",
        "      print(\"Não ultrapassou 12\")\n",
        "  def exponencial(self, e):\n",
        "    self.valor_exponencial = self.valor**e\n",
        "  def incrementa_quadrado(self):\n",
        "    self.incrementa()\n",
        "    self.exponencial(2)"
      ],
      "metadata": {
        "id": "T7xXVudKOi2g"
      },
      "execution_count": 28,
      "outputs": []
    },
    {
      "cell_type": "code",
      "source": [
        "a = DidaticaTech()"
      ],
      "metadata": {
        "id": "PQm8Rx2k75wc"
      },
      "execution_count": 29,
      "outputs": []
    },
    {
      "cell_type": "code",
      "source": [
        "a.incrementa()"
      ],
      "metadata": {
        "id": "TKUSGKqk8hGY"
      },
      "execution_count": 30,
      "outputs": []
    },
    {
      "cell_type": "code",
      "source": [
        "a.valor"
      ],
      "metadata": {
        "colab": {
          "base_uri": "https://localhost:8080/"
        },
        "id": "nfAwhibE8ijw",
        "outputId": "e6fd3475-b66c-4e6c-bb5b-1a7017094ee2"
      },
      "execution_count": 50,
      "outputs": [
        {
          "output_type": "execute_result",
          "data": {
            "text/plain": [
              "13"
            ]
          },
          "metadata": {},
          "execution_count": 50
        }
      ]
    },
    {
      "cell_type": "code",
      "source": [
        "a.verifica()"
      ],
      "metadata": {
        "colab": {
          "base_uri": "https://localhost:8080/"
        },
        "id": "tyhhOHBy9Liu",
        "outputId": "af537a9f-d5e6-4587-8c38-c8ff5705aa64"
      },
      "execution_count": 51,
      "outputs": [
        {
          "output_type": "stream",
          "name": "stdout",
          "text": [
            "Ultrapassou 12\n"
          ]
        }
      ]
    },
    {
      "cell_type": "code",
      "source": [
        "a.exponencial(3)"
      ],
      "metadata": {
        "id": "vEbjrCSm9PUu"
      },
      "execution_count": 33,
      "outputs": []
    },
    {
      "cell_type": "code",
      "source": [
        "a.valor_exponencial"
      ],
      "metadata": {
        "colab": {
          "base_uri": "https://localhost:8080/"
        },
        "id": "8YR69rEb9WUl",
        "outputId": "51829e40-67d3-4d42-8255-30e36762b0e9"
      },
      "execution_count": 49,
      "outputs": [
        {
          "output_type": "execute_result",
          "data": {
            "text/plain": [
              "169"
            ]
          },
          "metadata": {},
          "execution_count": 49
        }
      ]
    },
    {
      "cell_type": "code",
      "source": [
        "a.incrementa_quadrado()"
      ],
      "metadata": {
        "id": "IJK0ZGoA9cO1"
      },
      "execution_count": 48,
      "outputs": []
    },
    {
      "cell_type": "code",
      "source": [
        "b = DidaticaTech(50, 5)"
      ],
      "metadata": {
        "id": "ETr6P3ZA9qpN"
      },
      "execution_count": 38,
      "outputs": []
    },
    {
      "cell_type": "code",
      "source": [
        "b.incrementa()"
      ],
      "metadata": {
        "id": "z0B9Vh-_98nM"
      },
      "execution_count": 39,
      "outputs": []
    },
    {
      "cell_type": "code",
      "source": [
        "b.valor"
      ],
      "metadata": {
        "colab": {
          "base_uri": "https://localhost:8080/"
        },
        "id": "bnVEPYL49_Zk",
        "outputId": "fea19a97-e7a5-4a4b-c8e6-d08d8d3b0e30"
      },
      "execution_count": 40,
      "outputs": [
        {
          "output_type": "execute_result",
          "data": {
            "text/plain": [
              "55"
            ]
          },
          "metadata": {},
          "execution_count": 40
        }
      ]
    },
    {
      "cell_type": "code",
      "source": [
        "# Herança\n",
        "class Calculos(DidaticaTech):\n",
        "  pass"
      ],
      "metadata": {
        "id": "20CoZDeC-Ads"
      },
      "execution_count": 52,
      "outputs": []
    },
    {
      "cell_type": "code",
      "source": [
        "c = Calculos()"
      ],
      "metadata": {
        "id": "u-BKsxFjALdl"
      },
      "execution_count": 53,
      "outputs": []
    },
    {
      "cell_type": "code",
      "source": [
        "c.incrementa()"
      ],
      "metadata": {
        "id": "zV1SMrNUANXV"
      },
      "execution_count": 54,
      "outputs": []
    },
    {
      "cell_type": "code",
      "source": [
        "c.valor"
      ],
      "metadata": {
        "colab": {
          "base_uri": "https://localhost:8080/"
        },
        "id": "wBtqDZmnATQF",
        "outputId": "7f1b2918-24f7-487f-f7b8-cad47ede7a6f"
      },
      "execution_count": 55,
      "outputs": [
        {
          "output_type": "execute_result",
          "data": {
            "text/plain": [
              "11"
            ]
          },
          "metadata": {},
          "execution_count": 55
        }
      ]
    },
    {
      "cell_type": "code",
      "source": [
        "c.incrementa_quadrado()"
      ],
      "metadata": {
        "id": "XmVYvFnvAUPd"
      },
      "execution_count": 56,
      "outputs": []
    },
    {
      "cell_type": "code",
      "source": [
        "c.valor"
      ],
      "metadata": {
        "colab": {
          "base_uri": "https://localhost:8080/"
        },
        "id": "dVx6nycsAYRV",
        "outputId": "9a0f3392-01eb-42fe-82f6-1d952a2f4fde"
      },
      "execution_count": 57,
      "outputs": [
        {
          "output_type": "execute_result",
          "data": {
            "text/plain": [
              "12"
            ]
          },
          "metadata": {},
          "execution_count": 57
        }
      ]
    },
    {
      "cell_type": "code",
      "source": [
        "class Calculos(DidaticaTech):\n",
        "  def decrementa(self):\n",
        "    self.valor = self.valor - self.incremento"
      ],
      "metadata": {
        "id": "gmE6tClEAePM"
      },
      "execution_count": 59,
      "outputs": []
    },
    {
      "cell_type": "code",
      "source": [
        "d = Calculos()"
      ],
      "metadata": {
        "id": "emGU0MtuAx-L"
      },
      "execution_count": 60,
      "outputs": []
    },
    {
      "cell_type": "code",
      "source": [
        "d.incrementa()"
      ],
      "metadata": {
        "id": "l41TLLCzA0bT"
      },
      "execution_count": 61,
      "outputs": []
    },
    {
      "cell_type": "code",
      "source": [
        "d.valor"
      ],
      "metadata": {
        "colab": {
          "base_uri": "https://localhost:8080/"
        },
        "id": "IGlAJfxjA1zz",
        "outputId": "294f35bd-e96c-41aa-cd2b-f256029e0883"
      },
      "execution_count": 62,
      "outputs": [
        {
          "output_type": "execute_result",
          "data": {
            "text/plain": [
              "11"
            ]
          },
          "metadata": {},
          "execution_count": 62
        }
      ]
    },
    {
      "cell_type": "code",
      "source": [
        "d.decrementa()"
      ],
      "metadata": {
        "id": "WfQas7xIA2gj"
      },
      "execution_count": 63,
      "outputs": []
    },
    {
      "cell_type": "code",
      "source": [
        "d.valor"
      ],
      "metadata": {
        "colab": {
          "base_uri": "https://localhost:8080/"
        },
        "id": "UD4UybNNA4U7",
        "outputId": "74490554-3d13-47d7-b471-f0ef7f243eac"
      },
      "execution_count": 64,
      "outputs": [
        {
          "output_type": "execute_result",
          "data": {
            "text/plain": [
              "10"
            ]
          },
          "metadata": {},
          "execution_count": 64
        }
      ]
    },
    {
      "cell_type": "code",
      "source": [
        "d.verifica()"
      ],
      "metadata": {
        "colab": {
          "base_uri": "https://localhost:8080/"
        },
        "id": "ZxQoS1BJA5Zq",
        "outputId": "7f629376-7d0c-4be1-a9f3-79fa1bee60db"
      },
      "execution_count": 65,
      "outputs": [
        {
          "output_type": "stream",
          "name": "stdout",
          "text": [
            "Não ultrapassou 12\n"
          ]
        }
      ]
    },
    {
      "cell_type": "code",
      "source": [
        "class Calculos(DidaticaTech):\n",
        "  def __init__(self, d=5):\n",
        "    super().__init__(v=10, i=1)\n",
        "    self.divisor = d\n",
        "  def decrementa(self):\n",
        "    self.valor = self.valor - self.incremento\n",
        "  def divide(self):\n",
        "    self.valor = self.valor/self.divisor"
      ],
      "metadata": {
        "id": "sV6aqulTA76r"
      },
      "execution_count": 77,
      "outputs": []
    },
    {
      "cell_type": "code",
      "source": [
        "e = Calculos()"
      ],
      "metadata": {
        "id": "AOlAr6XmBoYw"
      },
      "execution_count": 78,
      "outputs": []
    },
    {
      "cell_type": "code",
      "source": [
        "e.incrementa()"
      ],
      "metadata": {
        "id": "qFMatb9zBz4o"
      },
      "execution_count": 79,
      "outputs": []
    },
    {
      "cell_type": "code",
      "source": [
        "e.valor"
      ],
      "metadata": {
        "colab": {
          "base_uri": "https://localhost:8080/"
        },
        "id": "bO4ClZeCCpGd",
        "outputId": "b6a1dcbc-fee1-4f9f-985b-9554485c77cb"
      },
      "execution_count": 80,
      "outputs": [
        {
          "output_type": "execute_result",
          "data": {
            "text/plain": [
              "11"
            ]
          },
          "metadata": {},
          "execution_count": 80
        }
      ]
    },
    {
      "cell_type": "code",
      "source": [
        "e.decrementa()"
      ],
      "metadata": {
        "id": "KddUz53ECp1N"
      },
      "execution_count": 81,
      "outputs": []
    },
    {
      "cell_type": "code",
      "source": [
        "e.divide()"
      ],
      "metadata": {
        "id": "NHbCntiLDKEc"
      },
      "execution_count": 82,
      "outputs": []
    },
    {
      "cell_type": "code",
      "source": [
        "e.valor"
      ],
      "metadata": {
        "colab": {
          "base_uri": "https://localhost:8080/"
        },
        "id": "IcT_lPzwDLnM",
        "outputId": "764b0172-5dbf-4480-bd4e-3ef98681e091"
      },
      "execution_count": 84,
      "outputs": [
        {
          "output_type": "execute_result",
          "data": {
            "text/plain": [
              "2.0"
            ]
          },
          "metadata": {},
          "execution_count": 84
        }
      ]
    },
    {
      "cell_type": "code",
      "source": [],
      "metadata": {
        "id": "r22OgcA4DMlj"
      },
      "execution_count": null,
      "outputs": []
    }
  ]
}