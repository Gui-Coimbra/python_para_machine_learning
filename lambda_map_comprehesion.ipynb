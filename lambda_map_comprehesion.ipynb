{
  "nbformat": 4,
  "nbformat_minor": 0,
  "metadata": {
    "colab": {
      "provenance": [],
      "authorship_tag": "ABX9TyOznx8628GbXHQxfTzuJzvS",
      "include_colab_link": true
    },
    "kernelspec": {
      "name": "python3",
      "display_name": "Python 3"
    },
    "language_info": {
      "name": "python"
    }
  },
  "cells": [
    {
      "cell_type": "markdown",
      "metadata": {
        "id": "view-in-github",
        "colab_type": "text"
      },
      "source": [
        "<a href=\"https://colab.research.google.com/github/Gui-Coimbra/python_para_machine_learning/blob/main/lambda_map_comprehesion.ipynb\" target=\"_parent\"><img src=\"https://colab.research.google.com/assets/colab-badge.svg\" alt=\"Open In Colab\"/></a>"
      ]
    },
    {
      "cell_type": "code",
      "execution_count": null,
      "metadata": {
        "id": "wLrsc4H_3-AK"
      },
      "outputs": [],
      "source": [
        "kmh = [10, 40, 55, 62, 75, 80, 75, 103] "
      ]
    },
    {
      "cell_type": "code",
      "source": [
        "mph = list(map(lambda x: x/1.61, kmh))\n",
        "print(mph)"
      ],
      "metadata": {
        "id": "6RtMRKUMAIg9",
        "colab": {
          "base_uri": "https://localhost:8080/"
        },
        "outputId": "f40d17f6-969e-467b-a6f4-036568319495"
      },
      "execution_count": null,
      "outputs": [
        {
          "output_type": "stream",
          "name": "stdout",
          "text": [
            "[6.211180124223602, 24.844720496894407, 34.161490683229815, 38.50931677018633, 46.58385093167701, 49.689440993788814, 46.58385093167701, 63.9751552795031]\n"
          ]
        }
      ]
    },
    {
      "cell_type": "code",
      "source": [
        "mph2 = [x/1.61 for x in kmh]\n",
        "print(mph2)"
      ],
      "metadata": {
        "id": "gfM6oRLrdi17",
        "colab": {
          "base_uri": "https://localhost:8080/"
        },
        "outputId": "43732316-aaf2-4cd1-91a3-ad50bb8d9350"
      },
      "execution_count": null,
      "outputs": [
        {
          "output_type": "stream",
          "name": "stdout",
          "text": [
            "[6.211180124223602, 24.844720496894407, 34.161490683229815, 38.50931677018633, 46.58385093167701, 49.689440993788814, 46.58385093167701, 63.9751552795031]\n"
          ]
        }
      ]
    },
    {
      "cell_type": "code",
      "source": [
        "caracteres = [i for i in 'Guilherme Coimbra']\n",
        "print(caracteres)"
      ],
      "metadata": {
        "colab": {
          "base_uri": "https://localhost:8080/"
        },
        "id": "adFWEawyEhKy",
        "outputId": "2911d53c-15fc-455f-9bb9-ef5fbf98e73a"
      },
      "execution_count": null,
      "outputs": [
        {
          "output_type": "stream",
          "name": "stdout",
          "text": [
            "['G', 'u', 'i', 'l', 'h', 'e', 'r', 'm', 'e', ' ', 'C', 'o', 'i', 'm', 'b', 'r', 'a']\n"
          ]
        }
      ]
    },
    {
      "cell_type": "code",
      "source": [
        "x = lambda x: x/2\n",
        "x(10)"
      ],
      "metadata": {
        "colab": {
          "base_uri": "https://localhost:8080/"
        },
        "id": "g3GVngnTExSn",
        "outputId": "27705cef-ce90-485b-bad0-c1b45ab74173"
      },
      "execution_count": null,
      "outputs": [
        {
          "output_type": "execute_result",
          "data": {
            "text/plain": [
              "5.0"
            ]
          },
          "metadata": {},
          "execution_count": 6
        }
      ]
    },
    {
      "cell_type": "code",
      "source": [
        "import numpy as np\n",
        "a = np.array([1,2,3])\n",
        "print(a)"
      ],
      "metadata": {
        "colab": {
          "base_uri": "https://localhost:8080/"
        },
        "id": "s0N9VR6kFuCn",
        "outputId": "88c6af3c-207b-4aef-a54e-17b070ff75c5"
      },
      "execution_count": null,
      "outputs": [
        {
          "output_type": "stream",
          "name": "stdout",
          "text": [
            "[1 2 3]\n"
          ]
        }
      ]
    },
    {
      "cell_type": "code",
      "source": [
        "b = np.array([(2,5,7),(5,3,9),(4,6,5)])\n",
        "print(b)"
      ],
      "metadata": {
        "colab": {
          "base_uri": "https://localhost:8080/"
        },
        "id": "iQDT_I0jF3Op",
        "outputId": "8e8731e1-3ffd-482f-fc70-c9b24ed77740"
      },
      "execution_count": null,
      "outputs": [
        {
          "output_type": "stream",
          "name": "stdout",
          "text": [
            "[[2 5 7]\n",
            " [5 3 9]\n",
            " [4 6 5]]\n"
          ]
        }
      ]
    },
    {
      "cell_type": "code",
      "source": [
        "c = np.eye(10)\n",
        "print(c)"
      ],
      "metadata": {
        "colab": {
          "base_uri": "https://localhost:8080/"
        },
        "id": "8_QZtNFhGE0p",
        "outputId": "bafb9bbb-b152-4862-b537-44dde6eb93ca"
      },
      "execution_count": null,
      "outputs": [
        {
          "output_type": "stream",
          "name": "stdout",
          "text": [
            "[[1. 0. 0. 0. 0. 0. 0. 0. 0. 0.]\n",
            " [0. 1. 0. 0. 0. 0. 0. 0. 0. 0.]\n",
            " [0. 0. 1. 0. 0. 0. 0. 0. 0. 0.]\n",
            " [0. 0. 0. 1. 0. 0. 0. 0. 0. 0.]\n",
            " [0. 0. 0. 0. 1. 0. 0. 0. 0. 0.]\n",
            " [0. 0. 0. 0. 0. 1. 0. 0. 0. 0.]\n",
            " [0. 0. 0. 0. 0. 0. 1. 0. 0. 0.]\n",
            " [0. 0. 0. 0. 0. 0. 0. 1. 0. 0.]\n",
            " [0. 0. 0. 0. 0. 0. 0. 0. 1. 0.]\n",
            " [0. 0. 0. 0. 0. 0. 0. 0. 0. 1.]]\n"
          ]
        }
      ]
    }
  ]
}